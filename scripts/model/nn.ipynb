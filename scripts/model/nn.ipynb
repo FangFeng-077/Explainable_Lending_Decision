{
 "cells": [
  {
   "cell_type": "code",
   "execution_count": 15,
   "metadata": {},
   "outputs": [
    {
     "name": "stderr",
     "output_type": "stream",
     "text": [
      "Using TensorFlow backend.\n"
     ]
    }
   ],
   "source": [
    "import pandas as pd\n",
    "import numpy as np\n",
    "np.random.seed(42)\n",
    "import matplotlib.pyplot as plt\n",
    "from sklearn.model_selection import train_test_split\n",
    "from sklearn.model_selection import train_test_split\n",
    "from sklearn.linear_model import LogisticRegression\n",
    "from sklearn.ensemble import RandomForestClassifier\n",
    "from sklearn import preprocessing\n",
    "import shap\n",
    "\n",
    "from sklearn.metrics import f1_score\n",
    "from sklearn.metrics import precision_score\n",
    "from sklearn.metrics import recall_score\n",
    "from sklearn.metrics import accuracy_score\n",
    "from sklearn.metrics import roc_auc_score\n",
    "from sklearn.preprocessing import StandardScaler\n",
    "\n",
    "import time\n",
    "\n",
    "import keras as ke\n",
    "import keras.backend as K\n",
    "from keras.layers import Input, Dense, Dropout\n",
    "from keras.models import Model"
   ]
  },
  {
   "cell_type": "code",
   "execution_count": 7,
   "metadata": {},
   "outputs": [],
   "source": [
    "df = pd.read_csv('../../data/processed/cleaned_ohe_normalized.csv')"
   ]
  },
  {
   "cell_type": "code",
   "execution_count": 8,
   "metadata": {},
   "outputs": [
    {
     "data": {
      "text/html": [
       "<div>\n",
       "<style scoped>\n",
       "    .dataframe tbody tr th:only-of-type {\n",
       "        vertical-align: middle;\n",
       "    }\n",
       "\n",
       "    .dataframe tbody tr th {\n",
       "        vertical-align: top;\n",
       "    }\n",
       "\n",
       "    .dataframe thead th {\n",
       "        text-align: right;\n",
       "    }\n",
       "</style>\n",
       "<table border=\"1\" class=\"dataframe\">\n",
       "  <thead>\n",
       "    <tr style=\"text-align: right;\">\n",
       "      <th></th>\n",
       "      <th>Unnamed: 0</th>\n",
       "      <th>Country_Afghanistan</th>\n",
       "      <th>Country_Armenia</th>\n",
       "      <th>Country_Azerbaijan</th>\n",
       "      <th>Country_Benin</th>\n",
       "      <th>Country_Bolivia</th>\n",
       "      <th>Country_Bulgaria</th>\n",
       "      <th>Country_Burkina Faso</th>\n",
       "      <th>Country_Burundi</th>\n",
       "      <th>Country_Cambodia</th>\n",
       "      <th>...</th>\n",
       "      <th>Town_gaza</th>\n",
       "      <th>Town_huvsgul</th>\n",
       "      <th>Town_kirkuk</th>\n",
       "      <th>Town_kyengera</th>\n",
       "      <th>Town_litein</th>\n",
       "      <th>Town_malindi</th>\n",
       "      <th>Loan Amount</th>\n",
       "      <th>Loan Term</th>\n",
       "      <th>Funded Time</th>\n",
       "      <th>Status</th>\n",
       "    </tr>\n",
       "  </thead>\n",
       "  <tbody>\n",
       "    <tr>\n",
       "      <td>0</td>\n",
       "      <td>0</td>\n",
       "      <td>0.0</td>\n",
       "      <td>0.0</td>\n",
       "      <td>0.0</td>\n",
       "      <td>0.0</td>\n",
       "      <td>0.0</td>\n",
       "      <td>0.0</td>\n",
       "      <td>0.0</td>\n",
       "      <td>0.0</td>\n",
       "      <td>0.0</td>\n",
       "      <td>...</td>\n",
       "      <td>0.0</td>\n",
       "      <td>0.0</td>\n",
       "      <td>0.0</td>\n",
       "      <td>0.0</td>\n",
       "      <td>0.0</td>\n",
       "      <td>0.0</td>\n",
       "      <td>0.035088</td>\n",
       "      <td>0.039216</td>\n",
       "      <td>0.83675</td>\n",
       "      <td>0</td>\n",
       "    </tr>\n",
       "    <tr>\n",
       "      <td>1</td>\n",
       "      <td>1</td>\n",
       "      <td>0.0</td>\n",
       "      <td>0.0</td>\n",
       "      <td>0.0</td>\n",
       "      <td>0.0</td>\n",
       "      <td>0.0</td>\n",
       "      <td>0.0</td>\n",
       "      <td>0.0</td>\n",
       "      <td>0.0</td>\n",
       "      <td>0.0</td>\n",
       "      <td>...</td>\n",
       "      <td>0.0</td>\n",
       "      <td>0.0</td>\n",
       "      <td>0.0</td>\n",
       "      <td>0.0</td>\n",
       "      <td>0.0</td>\n",
       "      <td>0.0</td>\n",
       "      <td>0.010025</td>\n",
       "      <td>0.008403</td>\n",
       "      <td>0.87755</td>\n",
       "      <td>0</td>\n",
       "    </tr>\n",
       "    <tr>\n",
       "      <td>2</td>\n",
       "      <td>2</td>\n",
       "      <td>0.0</td>\n",
       "      <td>0.0</td>\n",
       "      <td>0.0</td>\n",
       "      <td>0.0</td>\n",
       "      <td>0.0</td>\n",
       "      <td>0.0</td>\n",
       "      <td>0.0</td>\n",
       "      <td>0.0</td>\n",
       "      <td>0.0</td>\n",
       "      <td>...</td>\n",
       "      <td>0.0</td>\n",
       "      <td>0.0</td>\n",
       "      <td>0.0</td>\n",
       "      <td>0.0</td>\n",
       "      <td>0.0</td>\n",
       "      <td>0.0</td>\n",
       "      <td>0.077694</td>\n",
       "      <td>0.044818</td>\n",
       "      <td>0.41835</td>\n",
       "      <td>0</td>\n",
       "    </tr>\n",
       "  </tbody>\n",
       "</table>\n",
       "<p>3 rows × 1086 columns</p>\n",
       "</div>"
      ],
      "text/plain": [
       "   Unnamed: 0  Country_Afghanistan  Country_Armenia  Country_Azerbaijan  \\\n",
       "0           0                  0.0              0.0                 0.0   \n",
       "1           1                  0.0              0.0                 0.0   \n",
       "2           2                  0.0              0.0                 0.0   \n",
       "\n",
       "   Country_Benin  Country_Bolivia  Country_Bulgaria  Country_Burkina Faso  \\\n",
       "0            0.0              0.0               0.0                   0.0   \n",
       "1            0.0              0.0               0.0                   0.0   \n",
       "2            0.0              0.0               0.0                   0.0   \n",
       "\n",
       "   Country_Burundi  Country_Cambodia  ...  Town_gaza  Town_huvsgul  \\\n",
       "0              0.0               0.0  ...        0.0           0.0   \n",
       "1              0.0               0.0  ...        0.0           0.0   \n",
       "2              0.0               0.0  ...        0.0           0.0   \n",
       "\n",
       "   Town_kirkuk  Town_kyengera  Town_litein  Town_malindi  Loan Amount  \\\n",
       "0          0.0            0.0          0.0           0.0     0.035088   \n",
       "1          0.0            0.0          0.0           0.0     0.010025   \n",
       "2          0.0            0.0          0.0           0.0     0.077694   \n",
       "\n",
       "   Loan Term  Funded Time  Status  \n",
       "0   0.039216      0.83675       0  \n",
       "1   0.008403      0.87755       0  \n",
       "2   0.044818      0.41835       0  \n",
       "\n",
       "[3 rows x 1086 columns]"
      ]
     },
     "execution_count": 8,
     "metadata": {},
     "output_type": "execute_result"
    }
   ],
   "source": [
    "df.head(3)"
   ]
  },
  {
   "cell_type": "markdown",
   "metadata": {},
   "source": [
    "### model"
   ]
  },
  {
   "cell_type": "code",
   "execution_count": 16,
   "metadata": {},
   "outputs": [],
   "source": [
    "\n",
    "def nn_classifier(n_features):\n",
    "    inputs = Input(shape=(n_features,))\n",
    "    dense1 = Dense(32, activation='relu')(inputs)\n",
    "    dropout1 = Dropout(0.2)(dense1)\n",
    "    dense2 = Dense(32, activation='relu')(dropout1)\n",
    "    dropout2 = Dropout(0.2)(dense2)\n",
    "    dense3 = Dense(32, activation=\"relu\")(dropout2)\n",
    "    dropout3 = Dropout(0.2)(dense3)\n",
    "    outputs = Dense(1, activation='sigmoid')(dropout3)\n",
    "    model = Model(inputs=[inputs], outputs=[outputs])\n",
    "    model.compile(loss='binary_crossentropy', optimizer='adam')\n",
    "    return model\n",
    "\n",
    "def make_results_df(n_train):\n",
    "    return pd.DataFrame(\n",
    "        data = [[0.0] * 3] * len(metrics),\n",
    "        index = metrics,\n",
    "        columns=[int(n_train / 3), int(2 * n_train / 3), int(n_train)])\n",
    "\n",
    "def train_classifier(clf, X_train, y_train):\n",
    "    start = time.time()\n",
    "    clf.fit(X_train.values, y_train.values, epochs=20, verbose=0)\n",
    "    end = time.time()\n",
    "    return end-start\n",
    "\n",
    "def predict_labels(clf, X, y):\n",
    "    start = time.time()\n",
    "    y_pred = pd.Series(clf.predict(X).ravel(), index=y.index)\n",
    "    end = time.time()\n",
    "    return y_pred, end-start\n",
    "\n",
    "def train_predict(clf, X_train, y_train, X_test, y_test, df):\n",
    "    print(len(X_train), len(y_train), len(X_test), len(y_test))\n",
    "    \n",
    "    df.at['Training time', len(y_train)] = train_classifier(clf, X_train, y_train)\n",
    "    y_pred, t_pred = predict_labels(clf, X_train, y_train)\n",
    "    df.at['F1 score (train)' , len(y_train)] = f1_score(y_train.values, y_pred>0.5)\n",
    "    df.at['Precision (train)', len(y_train)] = precision_score(y_train.values, y_pred>0.5)\n",
    "    df.at['Recall (train)'   , len(y_train)] = recall_score(y_train.values, y_pred>0.5)\n",
    "    df.at['Accuracy (train)' , len(y_train)] = accuracy_score(y_train.values, y_pred>0.5)\n",
    "    df.at['ROC AUC (train)'  , len(y_train)] = roc_auc_score(y_train.values, y_pred)\n",
    "    y_pred, t_pred = predict_labels(clf, X_test, y_test)\n",
    "    df.at['F1 score (test)' , len(y_train)] = f1_score(y_test.values, y_pred>0.5)\n",
    "    df.at['Precision (test)', len(y_train)] = precision_score(y_test.values, y_pred>0.5)\n",
    "    df.at['Recall (test)'   , len(y_train)] = recall_score(y_test.values, y_pred>0.5)\n",
    "    df.at['Accuracy (test)' , len(y_train)] = accuracy_score(y_test.values, y_pred>0.5)\n",
    "    df.at['ROC AUC (test)'  , len(y_train)] = roc_auc_score(y_test.values, y_pred)\n",
    "    df.at['Prediction time' , len(y_train)] = t_pred\n",
    "    print(df.head())\n",
    "    return y_pred\n",
    "\n",
    "def make_training_and_test_sets(X, y, num_train):\n",
    "    num_all = X.shape[0]\n",
    "    num_test = num_all - num_train\n",
    "    test_frac = float(num_test) / float(num_all)\n",
    "    print(test_frac)\n",
    "\n",
    "    (X_train, X_test,\n",
    "     y_train, y_test) = train_test_split(X, y, test_size=test_frac,\n",
    "                                                  stratify=y,\n",
    "                                                  random_state=0)\n",
    "    (X_train2, X_train1,\n",
    "     y_train2, y_train1) = train_test_split(X_train, y_train,\n",
    "                                            test_size=0.333333,\n",
    "                                            stratify=y_train,\n",
    "                                            random_state=0)\n",
    "\n",
    "    X_train = X_train.reset_index(drop=True)\n",
    "    X_train2 = X_train2.reset_index(drop=True)\n",
    "    X_train1 = X_train1.reset_index(drop=True)\n",
    "    X_test = X_test.reset_index(drop=True)\n",
    "    y_train = y_train.reset_index(drop=True)\n",
    "    y_train2 = y_train2.reset_index(drop=True)\n",
    "    y_train1 = y_train1.reset_index(drop=True)\n",
    "    y_test = y_test.reset_index(drop=True)\n",
    "\n",
    "    return (X_train, X_train2, X_train1, X_test,\n",
    "            y_train, y_train2, y_train1, y_test)\n"
   ]
  },
  {
   "cell_type": "code",
   "execution_count": 17,
   "metadata": {},
   "outputs": [],
   "source": [
    "y_all = df['Status']\n",
    "X_all = df.drop(columns=['Status'])"
   ]
  },
  {
   "cell_type": "code",
   "execution_count": 18,
   "metadata": {
    "scrolled": true
   },
   "outputs": [
    {
     "name": "stdout",
     "output_type": "stream",
     "text": [
      "27580\n",
      "0.8000029006105785\n",
      "9194 9194 110322 110322\n"
     ]
    },
    {
     "name": "stderr",
     "output_type": "stream",
     "text": [
      "F-score is ill-defined and being set to 0.0 due to no predicted samples.\n",
      "Precision is ill-defined and being set to 0.0 due to no predicted samples.\n",
      "F-score is ill-defined and being set to 0.0 due to no predicted samples.\n",
      "Precision is ill-defined and being set to 0.0 due to no predicted samples.\n"
     ]
    },
    {
     "name": "stdout",
     "output_type": "stream",
     "text": [
      "                   9193   18386  27580      9194 \n",
      "Training time        0.0    0.0    0.0  22.375350\n",
      "Prediction time      0.0    0.0    0.0   3.902282\n",
      "F1 score (train)     0.0    0.0    0.0   0.000000\n",
      "F1 score (test)      0.0    0.0    0.0   0.000000\n",
      "Precision (train)    0.0    0.0    0.0   0.000000\n",
      "18386 18386 110322 110322\n"
     ]
    },
    {
     "name": "stderr",
     "output_type": "stream",
     "text": [
      "F-score is ill-defined and being set to 0.0 due to no predicted samples.\n",
      "Precision is ill-defined and being set to 0.0 due to no predicted samples.\n",
      "F-score is ill-defined and being set to 0.0 due to no predicted samples.\n",
      "Precision is ill-defined and being set to 0.0 due to no predicted samples.\n"
     ]
    },
    {
     "name": "stdout",
     "output_type": "stream",
     "text": [
      "                   9193       18386  27580      9194 \n",
      "Training time        0.0  44.505931    0.0  22.375350\n",
      "Prediction time      0.0   4.762462    0.0   3.902282\n",
      "F1 score (train)     0.0   0.000000    0.0   0.000000\n",
      "F1 score (test)      0.0   0.000000    0.0   0.000000\n",
      "Precision (train)    0.0   0.000000    0.0   0.000000\n",
      "27580 27580 110322 110322\n"
     ]
    },
    {
     "name": "stderr",
     "output_type": "stream",
     "text": [
      "F-score is ill-defined and being set to 0.0 due to no predicted samples.\n",
      "Precision is ill-defined and being set to 0.0 due to no predicted samples.\n"
     ]
    },
    {
     "name": "stdout",
     "output_type": "stream",
     "text": [
      "                   9193       18386      27580      9194 \n",
      "Training time        0.0  44.505931  61.245789  22.375350\n",
      "Prediction time      0.0   4.762462   3.111798   3.902282\n",
      "F1 score (train)     0.0   0.000000   0.000000   0.000000\n",
      "F1 score (test)      0.0   0.000000   0.000000   0.000000\n",
      "Precision (train)    0.0   0.000000   0.000000   0.000000\n"
     ]
    },
    {
     "name": "stderr",
     "output_type": "stream",
     "text": [
      "F-score is ill-defined and being set to 0.0 due to no predicted samples.\n",
      "Precision is ill-defined and being set to 0.0 due to no predicted samples.\n"
     ]
    }
   ],
   "source": [
    "\n",
    "metrics = ['Training time',\n",
    "           'Prediction time',\n",
    "           'F1 score (train)',\n",
    "           'F1 score (test)',\n",
    "           'Precision (train)',\n",
    "           'Precision (test)',\n",
    "           'Recall (train)',\n",
    "           'Recall (test)',\n",
    "           'Accuracy (train)',\n",
    "           'Accuracy (test)',\n",
    "           'ROC AUC (train)',\n",
    "           'ROC AUC (test)']\n",
    "\n",
    "\n",
    "n_train =  int(X_all.shape[0] * 0.2)\n",
    "print(n_train)\n",
    "(X_train, X_train2, X_train1, X_test,\n",
    "y_train, y_train2, y_train1, y_test) = make_training_and_test_sets(X_all, y_all, n_train)\n",
    "\n",
    "clf_nn = nn_classifier(n_features=X_train.shape[1])\n",
    "results_df = make_results_df(n_train)\n",
    "\n",
    "# Train on different size training sets and predict on a separate test set\n",
    "y_pred = train_predict(clf_nn, X_train1, y_train1, X_test, y_test, results_df)\n",
    "y_pred = train_predict(clf_nn, X_train2, y_train2, X_test, y_test, results_df)\n",
    "y_pred = train_predict(clf_nn, X_train, y_train, X_test, y_test, results_df)\n"
   ]
  },
  {
   "cell_type": "code",
   "execution_count": null,
   "metadata": {},
   "outputs": [],
   "source": [
    "print(y_pred)"
   ]
  }
 ],
 "metadata": {
  "kernelspec": {
   "display_name": "Python 3",
   "language": "python",
   "name": "python3"
  },
  "language_info": {
   "codemirror_mode": {
    "name": "ipython",
    "version": 3
   },
   "file_extension": ".py",
   "mimetype": "text/x-python",
   "name": "python",
   "nbconvert_exporter": "python",
   "pygments_lexer": "ipython3",
   "version": "3.7.4"
  }
 },
 "nbformat": 4,
 "nbformat_minor": 2
}
